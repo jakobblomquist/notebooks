{
 "metadata": {
  "name": ""
 },
 "nbformat": 3,
 "nbformat_minor": 0,
 "worksheets": [
  {
   "cells": [
    {
     "cell_type": "heading",
     "level": 1,
     "metadata": {
      "slideshow": {
       "slide_type": "slide"
      }
     },
     "source": [
      "Propagation of Error Estimates Using Python"
     ]
    },
    {
     "cell_type": "markdown",
     "metadata": {
      "slideshow": {
       "slide_type": "fragment"
      }
     },
     "source": [
      "By Jakob Blomquist\n",
      "\n",
      "Malmo University, 2016\n"
     ]
    },
    {
     "cell_type": "heading",
     "level": 2,
     "metadata": {
      "slideshow": {
       "slide_type": "slide"
      }
     },
     "source": [
      "Introduction"
     ]
    },
    {
     "cell_type": "markdown",
     "metadata": {
      "slideshow": {
       "slide_type": "fragment"
      }
     },
     "source": [
      "In this python notebook we will go through the formulae for computing error propagation, that is, the total error of some computed property that depends on two or more variables, that each have their own (known) error. The assumptions made here are:\n",
      "\n",
      "1. The variables are independant.\n",
      "2. The errors are random.\n",
      "\n",
      "That is, we don't consider systematic errors here.\n",
      "\n",
      "We will go through some elementary theory needed for this topic, but we will NOT cover all the basic material related to the theory of random errors or normal distribution. We will use this Notebook to show some ways of how to use python, and its mathematical and plotting libraries numpy and matplotlib, to perform calculations, generate some figures, and test our theoretical formulae."
     ]
    },
    {
     "cell_type": "heading",
     "level": 3,
     "metadata": {
      "slideshow": {
       "slide_type": "subslide"
      }
     },
     "source": [
      "IPython Notebook"
     ]
    },
    {
     "cell_type": "markdown",
     "metadata": {
      "slideshow": {
       "slide_type": "fragment"
      }
     },
     "source": [
      "We will use [IPython](http://ipython.readthedocs.io/en/stable/overview.html) (short for interactive Python) which is a front end program to code in python and automatically execute the code while you type it. All code snippets in this document assume that you are also running an iPython session.\n",
      "\n",
      "There are several places off and online to learn to code in Python and we will not go through that here. Instead you will learn by doing the excercises in here and at other places."
     ]
    },
    {
     "cell_type": "markdown",
     "metadata": {
      "slideshow": {
       "slide_type": "fragment"
      }
     },
     "source": [
      "IPython [Notebook](https://ipython.org/ipython-doc/3/notebook/notebook.html) is a nice feature that allows one to type and run code as well as document it. There are several possibilities to share and/or convert the notebook to other formats such as html, pdf, or slides. This document is an example of a Notebook.\n",
      "\n",
      "To start a notebook session simply type in your terminal:"
     ]
    },
    {
     "cell_type": "markdown",
     "metadata": {
      "slideshow": {
       "slide_type": "fragment"
      }
     },
     "source": [
      "    \n",
      "    ipython notebook\n",
      "    "
     ]
    },
    {
     "cell_type": "markdown",
     "metadata": {
      "slideshow": {
       "slide_type": "fragment"
      }
     },
     "source": [
      "This will fire up your web browser and you will see a list of any notebooks that you have stored in the folder that you resided in while running the previous command.\n",
      "\n",
      "If you don't have one then either load one from some other folder or start a new one."
     ]
    },
    {
     "cell_type": "heading",
     "level": 3,
     "metadata": {
      "slideshow": {
       "slide_type": "subslide"
      }
     },
     "source": [
      "Pylab"
     ]
    },
    {
     "cell_type": "markdown",
     "metadata": {
      "slideshow": {
       "slide_type": "fragment"
      }
     },
     "source": [
      "In order to be able to use numpy and matplotlib interactively we begin by calling both libraries, once and for all, by loading the pylab environment *pylab inline*"
     ]
    },
    {
     "cell_type": "code",
     "collapsed": false,
     "input": [
      "#Introducing numpy and plotting using the comprehensive pylab\n",
      "%pylab inline"
     ],
     "language": "python",
     "metadata": {
      "slideshow": {
       "slide_type": "fragment"
      }
     },
     "outputs": [
      {
       "output_type": "stream",
       "stream": "stdout",
       "text": [
        "Populating the interactive namespace from numpy and matplotlib\n"
       ]
      }
     ],
     "prompt_number": 1
    },
    {
     "cell_type": "markdown",
     "metadata": {
      "slideshow": {
       "slide_type": "fragment"
      }
     },
     "source": [
      "Now we can call individual methods from either of these two libraries directly and the *inline* keyword ensures that plots will show up directly after the command. The % sign imply that what follows that sign on the same line will be treated as [magic command](https://ipython.org/ipython-doc/3/interactive/tutorial.html#magics-explained)."
     ]
    },
    {
     "cell_type": "heading",
     "level": 3,
     "metadata": {
      "slideshow": {
       "slide_type": "subslide"
      }
     },
     "source": [
      "Some background theory"
     ]
    },
    {
     "cell_type": "markdown",
     "metadata": {
      "slideshow": {
       "slide_type": "fragment"
      }
     },
     "source": [
      "If we perform a measurement of some property, for example concentration of iron ions in a water sample, the actual value of the concentration at any given repetition of measurement will lie somewhere in the vicinity of the *true* concentration due to the inherent random error generated as a function of the level of precision of the measurement."
     ]
    },
    {
     "cell_type": "markdown",
     "metadata": {
      "slideshow": {
       "slide_type": "fragment"
      }
     },
     "source": [
      "Assuming we repeat the measurement *n* times (i.e. we have what we call a *sample* with size *n*), and assuming our measurements have zero systematic error - highly unlikely as it may be -  the more times we measure the sample arithmetic mean, $\\overline{x} = \\sum_i^n {x_i}/n$, will approach the *true* mean, $\\mu$, of the population."
     ]
    },
    {
     "cell_type": "markdown",
     "metadata": {
      "slideshow": {
       "slide_type": "fragment"
      }
     },
     "source": [
      "Under these conditions with no systematic error, the population mean, $\\mu$, is the same as the true concentration of our iron ions. "
     ]
    },
    {
     "cell_type": "markdown",
     "metadata": {
      "slideshow": {
       "slide_type": "fragment"
      }
     },
     "source": [
      "The probability of an individual measurement to give a specific value due to this randomness is given by the standard Gaussian (normal) probability density function:\n",
      "\n",
      "$$ p(x) = \\frac{1}{\\sqrt{2 \\pi \\sigma^2}}e^{-\\frac{(x-\\mu)^2}{(2 \\sigma^2)}} ,$$\n",
      "\n",
      "where the function has been normalized to generate an area (between $-\\infty$ to $+\\infty$) equal to 1, that is 100 % of all measurements.\n",
      "\n",
      "$\\sigma$ is the standard deviation of the full population and $\\sigma^2$ is the population variance."
     ]
    },
    {
     "cell_type": "markdown",
     "metadata": {
      "slideshow": {
       "slide_type": "fragment"
      }
     },
     "source": [
      "The standard deviation is a constant property of the specific measurement and the conditions pertaining to said measurement, and is independent of how many times we perform it. It's a measure of the expected spread (or error) of the measurements away from the true value in such a way that about 68 % of the population would reside within $\\mu \\pm \\sigma.$ "
     ]
    },
    {
     "cell_type": "markdown",
     "metadata": {
      "slideshow": {
       "slide_type": "subslide"
      }
     },
     "source": [
      "If we were to plot the function above, and shade the area going between $\\mu -\\sigma$ to $\\mu +\\sigma$, it would look something like this:"
     ]
    },
    {
     "cell_type": "code",
     "collapsed": false,
     "input": [
      "ax = axes() #This gives us a handle to the plot\n",
      "\n",
      "# plot normal distribution as red curve\n",
      "mu, sigma = 0.0, 0.1\n",
      "x = linspace(-0.4, 0.4,200)\n",
      "p = 1./(sqrt(2*pi*sigma**2))*exp(-((x - mu)**2)/(2*sigma**2))\n",
      "plot(x, p, linewidth=2, color='r') # This plots the red Gaussian curve\n",
      "l = axvline(x=0, ymax=0.89, ymin=0, color='k', linestyle=':') # Vertical dotted line at 0\n",
      "\n",
      "# make shaded region containing 68 % of the area\n",
      "xfill = linspace(-sigma, sigma)\n",
      "pfill = 1./(sqrt(2*pi*sigma**2))*exp(-((xfill - mu)**2)/(2*sigma**2))\n",
      "verts = [(-sigma, 0)] + list(zip(xfill, pfill)) + [(sigma, 0)]\n",
      "poly = Polygon(verts, facecolor='0.9', edgecolor='0.5')\n",
      "ax.add_patch(poly) # Here we make use of the handle from axes() to add to the figure\n",
      "\n",
      "# annotate special points\n",
      "annotate('$\\mu$', xy=(0, 3.8), xycoords='data',\n",
      "             xytext=(-50, 15), size=15, textcoords='offset points',\n",
      "             arrowprops=dict(arrowstyle=\"->\")\n",
      "             )\n",
      "annotate('$\\sigma-\\mu$', xy=(-sigma, 2.5), xycoords='data',\n",
      "             xytext=(-50, 10), size=15, textcoords='offset points',\n",
      "             arrowprops=dict(arrowstyle=\"->\")\n",
      "             )\n",
      "annotate('$\\sigma + \\mu$', xy=(sigma, 2.5), xycoords='data',\n",
      "             xytext=(+35, 10), size=15, textcoords='offset points',\n",
      "             arrowprops=dict(arrowstyle=\"->\")\n",
      "             )\n",
      "\n",
      "# center figure\n",
      "ylim([0,4.5])\n",
      "xlim([-0.4,0.4]);\n",
      "\n",
      "figtext(0.9, 0.05, '$x$')\n",
      "figtext(0.1, 0.9, '$y$')\n",
      "\n",
      "# remove labels and ticks at y-axis\n",
      "ax.spines['right'].set_visible(False) # Removes the axis-lines\n",
      "ax.spines['top'].set_visible(False)\n",
      "ax.xaxis.set_ticks_position('bottom') # Only x-ticks on the bottom axis\n",
      "ax.yaxis.set_ticks([]); # Removes the ticks from y-axis\n",
      "\n",
      "# One can also use tick_params() to controll axis\n",
      "#tick_params(\n",
      "#    axis='both',          # changes apply to both axis\n",
      "#    which='both',      # both major and minor ticks are affected\n",
      "#    left='off',      # ticks along the left edge are off\n",
      "#    top='off',       # ticks along the top edge are off\n",
      "#    right='off',\n",
      "#    labelleft='off') # labels along the bottom edge are off"
     ],
     "language": "python",
     "metadata": {
      "slideshow": {
       "slide_type": "subslide"
      }
     },
     "outputs": [
      {
       "metadata": {},
       "output_type": "pyout",
       "prompt_number": 2,
       "text": [
        "[]"
       ]
      },
      {
       "metadata": {},
       "output_type": "display_data",
       "png": "[encoded data removed]",
       "text": [
        "<matplotlib.figure.Figure at 0x7f3687dd4810>"
       ]
      }
     ],
     "prompt_number": 2
    },
    {
     "cell_type": "markdown",
     "metadata": {
      "slideshow": {
       "slide_type": "subslide"
      }
     },
     "source": [
      "As can be seen above, we don't need to call numpy or matplotlib anymore as we have already loaded the pylab environment in the beginning. \n",
      "\n",
      "Read the code again and try to understand what each part do."
     ]
    },
    {
     "cell_type": "markdown",
     "metadata": {
      "slideshow": {
       "slide_type": "subslide"
      }
     },
     "source": [
      "Observe that the red curve above is a representation of the measurement method and the present conditions which all together gives the standard deviation of the population. Anything else than an infinite amount of measurements will only generate an approximation to the polulation $\\mu$ and $\\sigma$.\n",
      "\n",
      "We have already seen the formula for the sample mean, $\\overline{x}$, and similarily, an estimate of $\\sigma$ can be computed from the *n* measurements by: \n"
     ]
    },
    {
     "cell_type": "markdown",
     "metadata": {
      "slideshow": {
       "slide_type": "fragment"
      }
     },
     "source": [
      "$s = \\sqrt{\\sum_i{(x_i - \\overline{x})^2}/(n-1)}\\qquad\\qquad\\qquad\\qquad\\qquad\\qquad$                 (1)"
     ]
    },
    {
     "cell_type": "markdown",
     "metadata": {
      "slideshow": {
       "slide_type": "fragment"
      }
     },
     "source": [
      "where *s* is called the sample standard deviation."
     ]
    },
    {
     "cell_type": "heading",
     "level": 3,
     "metadata": {
      "slideshow": {
       "slide_type": "subslide"
      }
     },
     "source": [
      "Monte-Carlo simulation"
     ]
    },
    {
     "cell_type": "markdown",
     "metadata": {
      "slideshow": {
       "slide_type": "fragment"
      }
     },
     "source": [
      "In a real measurement, where we measure a finite number of times, *n*, we don't know where on this Gaussian curve our measurements happen to end up. The measurements pick values at random, so to speak, in such a way so that the normal probability density holds true. If we want to simulate this behaviour we need to generate numbers in random. This is called a Monte-Carlo (MC) simulation.  \n",
      "\n",
      "What this means is that we make use of numpy's random number generator for normal distribution: [numpy.random.normal](http://docs.scipy.org/doc/numpy-1.10.1/reference/generated/numpy.random.normal.html). "
     ]
    },
    {
     "cell_type": "code",
     "collapsed": false,
     "input": [
      "mu, sigma = 0, 0.10 # mean and standard deviation\n",
      "\n",
      "# generate 1000 points of random number normally distributed\n",
      "# around 0 with std of 0.1\n",
      "s = random.normal(mu, sigma, 1000)"
     ],
     "language": "python",
     "metadata": {
      "slideshow": {
       "slide_type": "subslide"
      }
     },
     "outputs": [],
     "prompt_number": 3
    },
    {
     "cell_type": "markdown",
     "metadata": {
      "slideshow": {
       "slide_type": "subslide"
      }
     },
     "source": [
      "We can verify that the standard deviation of *s* is indeed close to $\\sigma$ by using numpy's function std(), which simply use compute eq (1) above:"
     ]
    },
    {
     "cell_type": "code",
     "collapsed": false,
     "input": [
      "std(s, ddof=1) # ddof is degrees of freedom."
     ],
     "language": "python",
     "metadata": {
      "slideshow": {
       "slide_type": "fragment"
      }
     },
     "outputs": [
      {
       "metadata": {},
       "output_type": "pyout",
       "prompt_number": 4,
       "text": [
        "0.10018076376984626"
       ]
      }
     ],
     "prompt_number": 4
    },
    {
     "cell_type": "markdown",
     "metadata": {
      "slideshow": {
       "slide_type": "fragment"
      }
     },
     "source": [
      "If we just pick a large enough number as our simulation sample we should be very close to the true population distribution. As we can see 1000 seem to be ok for these tests."
     ]
    },
    {
     "cell_type": "markdown",
     "metadata": {
      "slideshow": {
       "slide_type": "fragment"
      }
     },
     "source": [
      "To test our theoretical formulae we can simply generate a sample of 1000 \"measurements\" of each variable, each picked from its own predefined population of known mean and error (i.e. standar deviation). We then combine these variables in the way we want to test and compare the final result with our theoretical formula for the specific error propagation."
     ]
    },
    {
     "cell_type": "heading",
     "level": 2,
     "metadata": {
      "slideshow": {
       "slide_type": "slide"
      }
     },
     "source": [
      "Arithmetic sum of errors"
     ]
    },
    {
     "cell_type": "markdown",
     "metadata": {
      "slideshow": {
       "slide_type": "fragment"
      }
     },
     "source": [
      "The general formula of computing an random error estimate for cases where some property is given as a linear combination of two or more independant variables like:\n",
      "\n",
      "$$y = k + k_1 a + k_2b + k_3c \\, +.. $$ \n",
      "\n",
      "is given by:\n",
      "\n",
      "$\\sigma_y^2 = (k_1\\sigma_a)^2 + (k_2\\sigma_b)^2 + (k_3\\sigma_c)^2 +..,\\qquad\\qquad\\qquad\\qquad\\qquad$     (2)"
     ]
    },
    {
     "cell_type": "markdown",
     "metadata": {
      "slideshow": {
       "slide_type": "fragment"
      }
     },
     "source": [
      "where the \"*k:s*\" are konstants and *a, b, c,...* are the variables. Since $\\sigma^2_a $ is the variance of variable *a* we get the general notion of: "
     ]
    },
    {
     "cell_type": "markdown",
     "metadata": {
      "slideshow": {
       "slide_type": "fragment"
      }
     },
     "source": [
      "\"*The total variance of the sum - of independant variables! - is the sum of the variances*\","
     ]
    },
    {
     "cell_type": "markdown",
     "metadata": {
      "slideshow": {
       "slide_type": "fragment"
      }
     },
     "source": [
      "or more concisely:"
     ]
    },
    {
     "cell_type": "markdown",
     "metadata": {
      "slideshow": {
       "slide_type": "fragment"
      }
     },
     "source": [
      "\"*variances adds!* \""
     ]
    },
    {
     "cell_type": "markdown",
     "metadata": {
      "slideshow": {
       "slide_type": "fragment"
      }
     },
     "source": [
      "In this sense variances are often more useful to work with compared with standard deviations. "
     ]
    },
    {
     "cell_type": "markdown",
     "metadata": {
      "slideshow": {
       "slide_type": "fragment"
      }
     },
     "source": [
      "More often, though, one finds the same result directly in the form of *std*:\n",
      "\n",
      "$\\sigma_y = \\sqrt{(k_1\\sigma_a)^2 + (k_2\\sigma_b)^2 + (k_3\\sigma_c)^2 +..},\\qquad\\qquad\\qquad\\qquad\\qquad$              (3)\n",
      "\n",
      "and, so, one may say that \"*The errors add root mean squarely*\"."
     ]
    },
    {
     "cell_type": "markdown",
     "metadata": {
      "slideshow": {
       "slide_type": "subslide"
      }
     },
     "source": [
      "\n",
      "\n",
      "We can now test this formula using an example with known errors by comparing it to a Monte-Carlo simulation. "
     ]
    },
    {
     "cell_type": "heading",
     "level": 3,
     "metadata": {
      "slideshow": {
       "slide_type": "subslide"
      }
     },
     "source": [
      "Example"
     ]
    },
    {
     "cell_type": "markdown",
     "metadata": {
      "slideshow": {
       "slide_type": "fragment"
      }
     },
     "source": [
      "In a titration of iron ions (Fe\u00b2\u207a) a 0.0200 M (mol/l) Potassium Permanganate (KMnO$_4$) is used. The Burette containing the permanganate solution has a known standard deviation of 0.02 ml. The initial reading of the burette is 3.52 ml and the final reading is 15.66 ml. What is the standard deviation of the volume used?\n"
     ]
    },
    {
     "cell_type": "markdown",
     "metadata": {
      "slideshow": {
       "slide_type": "fragment"
      }
     },
     "source": [
      "\n",
      "This is a case of a linear sum where the total titered volume is given by:"
     ]
    },
    {
     "cell_type": "code",
     "collapsed": false,
     "input": [
      "vstart = 3.52 # initial reading\n",
      "vfinal = 15.66 # final reading\n",
      "v = vfinal - vstart\n",
      "print 'Volume used = {} ml'.format(v) #Python print function"
     ],
     "language": "python",
     "metadata": {
      "slideshow": {
       "slide_type": "fragment"
      }
     },
     "outputs": [
      {
       "output_type": "stream",
       "stream": "stdout",
       "text": [
        "Volume used = 12.14 ml\n"
       ]
      }
     ],
     "prompt_number": 5
    },
    {
     "cell_type": "markdown",
     "metadata": {
      "slideshow": {
       "slide_type": "fragment"
      }
     },
     "source": [
      "Standard deviation is given by eq(3) : $\\sigma = \\sqrt{(0.0200)^2 + (0.0200)^2} = 0.0283$ ml"
     ]
    },
    {
     "cell_type": "code",
     "collapsed": false,
     "input": [
      "stdbrtt = 0.0200 # standard deviation of burette\n",
      "stdvol = sqrt(stdbrtt**2 + stdbrtt**2) # std of total volume\n",
      "print 'std for total volume = {:.4f} ml'.format( stdvol) #Python print function"
     ],
     "language": "python",
     "metadata": {
      "slideshow": {
       "slide_type": "fragment"
      }
     },
     "outputs": [
      {
       "output_type": "stream",
       "stream": "stdout",
       "text": [
        "std for total volume = 0.0283 ml\n"
       ]
      }
     ],
     "prompt_number": 6
    },
    {
     "cell_type": "markdown",
     "metadata": {
      "slideshow": {
       "slide_type": "subslide"
      }
     },
     "source": [
      "Let's check this with a MC-simulation. First we generate two samples of initial and final volumes, each with a sample size *n* = 1000. The samples are pulled from two populations, one with a mean of 3.52 ml and the other with a mean of 15.66, and both with std = 0.0200 ml. "
     ]
    },
    {
     "cell_type": "code",
     "collapsed": false,
     "input": [
      "mu_initial = 3.52\n",
      "mu_final = 15.66\n",
      "sampleVolstart = random.normal(mu_initial, stdbrtt, 1000)\n",
      "sampleVolfinal = random.normal(mu_final, stdbrtt, 1000)"
     ],
     "language": "python",
     "metadata": {
      "slideshow": {
       "slide_type": "subslide"
      }
     },
     "outputs": [],
     "prompt_number": 7
    },
    {
     "cell_type": "markdown",
     "metadata": {
      "slideshow": {
       "slide_type": "fragment"
      }
     },
     "source": [
      "Next we simply substract the vector sampleVolstart from the vector sampleVolfinal which will generate a new vector (a numpy array actually) of size 1000. \n",
      "\n",
      "Finally we use numpy's method std(), like before, to check what the resulting vector standard deviation is."
     ]
    },
    {
     "cell_type": "code",
     "collapsed": false,
     "input": [
      "print 's from 1000 \"measurements\" = {:.4f}'.format(std(sampleVolfinal - sampleVolstart, ddof=1))"
     ],
     "language": "python",
     "metadata": {
      "slideshow": {
       "slide_type": "fragment"
      }
     },
     "outputs": [
      {
       "output_type": "stream",
       "stream": "stdout",
       "text": [
        "s from 1000 \"measurements\" = 0.0275\n"
       ]
      }
     ],
     "prompt_number": 8
    },
    {
     "cell_type": "markdown",
     "metadata": {
      "slideshow": {
       "slide_type": "fragment"
      }
     },
     "source": [
      "It seem to give very similar results (it will vary only in the 3rd significant figure most of the times). Had we used a sample size of 10000 we would have seen an even closer match. "
     ]
    },
    {
     "cell_type": "heading",
     "level": 3,
     "metadata": {
      "slideshow": {
       "slide_type": "subslide"
      }
     },
     "source": [
      "Excercise"
     ]
    },
    {
     "cell_type": "markdown",
     "metadata": {
      "slideshow": {
       "slide_type": "fragment"
      }
     },
     "source": [
      "Test"
     ]
    },
    {
     "cell_type": "heading",
     "level": 2,
     "metadata": {
      "slideshow": {
       "slide_type": "slide"
      }
     },
     "source": [
      "Case of Product"
     ]
    },
    {
     "cell_type": "markdown",
     "metadata": {
      "slideshow": {
       "slide_type": "fragment"
      }
     },
     "source": [
      "Some text"
     ]
    },
    {
     "cell_type": "code",
     "collapsed": false,
     "input": [],
     "language": "python",
     "metadata": {
      "slideshow": {
       "slide_type": "subslide"
      }
     },
     "outputs": [],
     "prompt_number": 8
    },
    {
     "cell_type": "code",
     "collapsed": false,
     "input": [],
     "language": "python",
     "metadata": {
      "slideshow": {
       "slide_type": "fragment"
      }
     },
     "outputs": [],
     "prompt_number": 8
    },
    {
     "cell_type": "heading",
     "level": 2,
     "metadata": {
      "slideshow": {
       "slide_type": "slide"
      }
     },
     "source": [
      "Case of Division"
     ]
    },
    {
     "cell_type": "markdown",
     "metadata": {
      "slideshow": {
       "slide_type": "fragment"
      }
     },
     "source": [
      "Some text"
     ]
    },
    {
     "cell_type": "code",
     "collapsed": false,
     "input": [],
     "language": "python",
     "metadata": {
      "slideshow": {
       "slide_type": "subslide"
      }
     },
     "outputs": [],
     "prompt_number": 8
    },
    {
     "cell_type": "code",
     "collapsed": false,
     "input": [],
     "language": "python",
     "metadata": {
      "slideshow": {
       "slide_type": "fragment"
      }
     },
     "outputs": [],
     "prompt_number": 8
    }
   ],
   "metadata": {}
  }
 ]
}